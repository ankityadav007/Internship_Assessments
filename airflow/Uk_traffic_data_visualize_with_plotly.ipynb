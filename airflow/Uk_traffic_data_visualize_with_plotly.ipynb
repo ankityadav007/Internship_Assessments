{
 "cells": [
  {
   "cell_type": "code",
   "execution_count": 1,
   "metadata": {},
   "outputs": [],
   "source": [
    "from pyspark import SparkContext"
   ]
  },
  {
   "cell_type": "code",
   "execution_count": 2,
   "metadata": {},
   "outputs": [],
   "source": [
    "from pyspark.sql.session import SparkSession"
   ]
  },
  {
   "cell_type": "code",
   "execution_count": 3,
   "metadata": {},
   "outputs": [],
   "source": [
    "from pyspark.sql.functions import col,broadcast"
   ]
  },
  {
   "cell_type": "code",
   "execution_count": 4,
   "metadata": {},
   "outputs": [],
   "source": [
    "from pyspark.sql import functions as F"
   ]
  },
  {
   "cell_type": "code",
   "execution_count": 5,
   "metadata": {},
   "outputs": [],
   "source": [
    "from matplotlib import pyplot as plt"
   ]
  },
  {
   "cell_type": "code",
   "execution_count": 6,
   "metadata": {},
   "outputs": [],
   "source": [
    "import pandas as pd"
   ]
  },
  {
   "cell_type": "code",
   "execution_count": 7,
   "metadata": {},
   "outputs": [],
   "source": [
    "sc = SparkContext(master='local')"
   ]
  },
  {
   "cell_type": "code",
   "execution_count": 8,
   "metadata": {},
   "outputs": [],
   "source": [
    "spark = SparkSession(sc)"
   ]
  },
  {
   "cell_type": "code",
   "execution_count": 193,
   "metadata": {},
   "outputs": [],
   "source": [
    "import plotly.graph_objs as go"
   ]
  },
  {
   "cell_type": "code",
   "execution_count": 194,
   "metadata": {},
   "outputs": [
    {
     "data": {
      "text/html": [
       "<script type=\"text/javascript\">window.PlotlyConfig = {MathJaxConfig: 'local'};</script><script type=\"text/javascript\">if (window.MathJax) {MathJax.Hub.Config({SVG: {font: \"STIX-Web\"}});}</script><script>requirejs.config({paths: { 'plotly': ['https://cdn.plot.ly/plotly-latest.min']},});if(!window._Plotly) {require(['plotly'],function(plotly) {window._Plotly=plotly;});}</script>"
      ],
      "text/vnd.plotly.v1+html": [
       "<script type=\"text/javascript\">window.PlotlyConfig = {MathJaxConfig: 'local'};</script><script type=\"text/javascript\">if (window.MathJax) {MathJax.Hub.Config({SVG: {font: \"STIX-Web\"}});}</script><script>requirejs.config({paths: { 'plotly': ['https://cdn.plot.ly/plotly-latest.min']},});if(!window._Plotly) {require(['plotly'],function(plotly) {window._Plotly=plotly;});}</script>"
      ]
     },
     "metadata": {},
     "output_type": "display_data"
    }
   ],
   "source": [
    "from plotly.offline import init_notebook_mode, iplot\n",
    "init_notebook_mode(connected=True)"
   ]
  },
  {
   "cell_type": "code",
   "execution_count": 9,
   "metadata": {},
   "outputs": [],
   "source": [
    "accident_info = spark.read.csv(\"hdfs://localhost:9000/files/accident/Accident_Information.csv\",header=True,inferSchema=True)"
   ]
  },
  {
   "cell_type": "code",
   "execution_count": 10,
   "metadata": {},
   "outputs": [],
   "source": [
    "vehicle_info = spark.read.csv(\"hdfs://localhost:9000/files/accident/Vehicle_Information.csv\",header=True,inferSchema=True)"
   ]
  },
  {
   "cell_type": "code",
   "execution_count": 135,
   "metadata": {},
   "outputs": [],
   "source": [
    "combinedDF = vehicle_info.join(accident_info,['Accident_Index'],'inner').drop(vehicle_info.Year)"
   ]
  },
  {
   "cell_type": "code",
   "execution_count": 12,
   "metadata": {},
   "outputs": [
    {
     "name": "stdout",
     "output_type": "stream",
     "text": [
      "+--------------+--------------+---------------+--------------+---------------+-----------------+-------------------+-------------------+-----------+-------------------------------------------+--------------------+--------------------+---------+--------------------+--------------------------+-------------------------+---------------------+----------------------+---------+-------------------------+--------------------+------------------+---------------------------------+---------------------------------------+-------------------+-----------------------+------------------+--------------------------+-----------+-----+-------------------+--------------------+----+----------+------------------+--------------+---------------------+-----------------+--------------------+-------------------------+--------------------------+-------------------------+--------------------+----------+--------------------+---------------+-------------+------------------------+-----------------------+---------------------------+--------------------------------+--------------------+-----------------+--------------------+---------------------------+--------------------+\n",
      "|Accident_Index|1st_Road_Class|1st_Road_Number|2nd_Road_Class|2nd_Road_Number|Accident_Severity|Carriageway_Hazards|               Date|Day_of_Week|Did_Police_Officer_Attend_Scene_of_Accident|    Junction_Control|     Junction_Detail| Latitude|    Light_Conditions|Local_Authority_(District)|Local_Authority_(Highway)|Location_Easting_OSGR|Location_Northing_OSGR|Longitude|LSOA_of_Accident_Location|Number_of_Casualties|Number_of_Vehicles|Pedestrian_Crossing-Human_Control|Pedestrian_Crossing-Physical_Facilities|       Police_Force|Road_Surface_Conditions|         Road_Type|Special_Conditions_at_Site|Speed_limit| Time|Urban_or_Rural_Area|  Weather_Conditions|Year|InScotland|Age_Band_of_Driver|Age_of_Vehicle|Driver_Home_Area_Type|Driver_IMD_Decile|Engine_Capacity_.CC.|Hit_Object_in_Carriageway|Hit_Object_off_Carriageway|Journey_Purpose_of_Driver|   Junction_Location|      make|               model|Propulsion_Code|Sex_of_Driver|Skidding_and_Overturning|Towing_and_Articulation|Vehicle_Leaving_Carriageway|Vehicle_Location.Restricted_Lane|   Vehicle_Manoeuvre|Vehicle_Reference|        Vehicle_Type|Was_Vehicle_Left_Hand_Drive|X1st_Point_of_Impact|\n",
      "+--------------+--------------+---------------+--------------+---------------+-----------------+-------------------+-------------------+-----------+-------------------------------------------+--------------------+--------------------+---------+--------------------+--------------------------+-------------------------+---------------------+----------------------+---------+-------------------------+--------------------+------------------+---------------------------------+---------------------------------------+-------------------+-----------------------+------------------+--------------------------+-----------+-----+-------------------+--------------------+----+----------+------------------+--------------+---------------------+-----------------+--------------------+-------------------------+--------------------------+-------------------------+--------------------+----------+--------------------+---------------+-------------+------------------------+-----------------------+---------------------------+--------------------------------+--------------------+-----------------+--------------------+---------------------------+--------------------+\n",
      "| 200501BS70192|             C|              0|            NA|              0|           Slight|               None|2005-05-04 00:00:00|  Wednesday|                                          1|Data missing or o...|Not at junction o...|51.493723|            Daylight|      Kensington and Ch...|     Kensington and Ch...|               526290|                178770|-0.182199|                E01002835|                   1|                 2|                                0|                                      5|Metropolitan Police|                    Dry|Single carriageway|                      None|         30|16:10|              Urban|  Fine no high winds|2005|        No|           26 - 35|             8|           Urban area|                7|                1896|                     None|                      None|     Other/Not known (...|Not at or within ...|VOLKSWAGEN|  800 SPECIAL TD SWB|      Heavy oil|         Male|                    None|    No tow/articulation|       Did not leave car...|                               0|   Going ahead other|                1|Van / Goods 3.5 t...|                         No|             Offside|\n",
      "| 200501CP00197|             A|             40|             C|              0|           Slight|               None|2005-09-07 00:00:00|  Wednesday|                                          1|Give way or uncon...|T or staggered ju...|51.518041|            Daylight|            City of London|           City of London|               531190|                181600|-0.110603|                E01000917|                   1|                 2|                                0|                                      0|     City of London|                    Dry|Single carriageway|                      None|         30|18:45|              Urban|  Fine no high winds|2005|        No|           26 - 35|            10| Data missing or o...|               NA|                 498|                     None|                      None|     Other/Not known (...|Cleared junction ...|  KAWASAKI|           KLE500-A3|         Petrol|         Male|                    None|    No tow/articulation|       Did not leave car...|                               0|Overtaking static...|                2|Motorcycle over 1...|                         No|            Nearside|\n",
      "| 200501JC30457|             A|            104|             C|              0|           Slight|               None|2005-06-23 00:00:00|   Thursday|                                          1|Give way or uncon...|T or staggered ju...|51.580103|            Daylight|            Waltham Forest|           Waltham Forest|               538480|                188700|-0.002808|                E01004363|                   1|                 2|                                0|                                      0|Metropolitan Police|                    Dry|    One way street|                      None|         30|17:12|              Urban|  Fine no high winds|2005|        No|           26 - 35|             4|           Urban area|                2|                8268|                     None|                      None|     Journey as part o...|Approaching junct...|    DENNIS|                null|      Heavy oil|         Male|                    None|    No tow/articulation|       Did not leave car...|                               0|   Going ahead other|                1|Bus or coach (17 ...|                         No|      Did not impact|\n",
      "| 200501KD50578|  Unclassified|              0|             B|           1335|           Slight|               None|2005-10-03 00:00:00|     Monday|                                          1|Give way or uncon...|          Roundabout|51.519655|            Daylight|                  Havering|                 Havering|               552010|                182360| 0.189577|                E01002345|                   1|                 1|                                0|                                      0|Metropolitan Police|                    Dry|        Roundabout|                      None|         30|10:50|              Urban|  Fine no high winds|2005|        No|           26 - 35|            NA|           Urban area|                6|                  NA|                     None|                      None|     Journey as part o...|Mid Junction - on...|     HONDA|                null|             NA|         Male|                    None|    No tow/articulation|       Did not leave car...|                               0|        Turning left|                1|Bus or coach (17 ...|                         No|      Did not impact|\n",
      "| 200501LX50738|             A|             23|             A|            216|           Slight|               None|2005-06-17 00:00:00|     Friday|                                          1| Auto traffic signal|T or staggered ju...|51.429251|            Daylight|                   Lambeth|                  Lambeth|               530020|                171690|  -0.1311|                E01003119|                   1|                 2|                                0|                                      0|Metropolitan Police|                    Dry|Single carriageway|                      None|         30|11:24|              Urban|  Fine no high winds|2005|        No|           26 - 35|             2|           Urban area|                4|                9200|                     None|                      None|     Journey as part o...|Approaching junct...|       DAF|                null|      Heavy oil|         Male|                    None|    No tow/articulation|       Did not leave car...|                               0|   Going ahead other|                1|Bus or coach (17 ...|                         No|      Did not impact|\n",
      "| 200501MM70996|             A|            201|             B|            240|           Slight|               None|2005-09-11 00:00:00|     Sunday|                                          1|Give way or uncon...|T or staggered ju...|51.494015|            Daylight|                 Southwark|                Southwark|               532480|                178960|-0.093013|                E01003962|                   3|                 3|                                0|                                      0|Metropolitan Police|                    Dry|Single carriageway|                      None|         30|17:45|              Urban|  Fine no high winds|2005|        No|           26 - 35|             9|           Urban area|                7|                1985|                     None|                      None|     Other/Not known (...|Approaching junct...|      SAAB|              900 XS|         Petrol|         Male|                    None|    No tow/articulation|       Did not leave car...|                               0| Slowing or stopping|                2|                 Car|                         No|                Back|\n",
      "| 200501PL60094|             B|            218|            NA|              0|           Slight|               None|2005-01-12 00:00:00|  Wednesday|                                          1|Data missing or o...|Not at junction o...|51.463038|            Daylight|                  Lewisham|                 Lewisham|               536530|                175620|-0.035998|                E01003214|                   1|                 2|                                0|                                      0|Metropolitan Police|                    Dry|Single carriageway|                      None|         30|15:10|              Urban|  Fine no high winds|2005|        No|           26 - 35|            NA|           Urban area|                5|                  NA|                     None|                      None|     Other/Not known (...|Not at or within ...|      FORD|RANGER 4X4 TURBO ...|             NA|         Male|                    None|    No tow/articulation|       Did not leave car...|                               0|   Going ahead other|                1|                 Car|                         No|             Offside|\n",
      "| 200501QA10532|             B|            461|             C|              0|           Slight|               None|2005-12-19 00:00:00|     Monday|                                          1|Give way or uncon...|T or staggered ju...|51.609777|Darkness - lights...|                    Harrow|                   Harrow|               519130|                191510|-0.280976|                E01002118|                   1|                 2|                                0|                                      0|Metropolitan Police|                    Dry|Single carriageway|                      None|         30|20:31|              Urban|  Fine no high winds|2005|        No|           26 - 35|            NA| Data missing or o...|               NA|                  NA|                     None|                      None|     Other/Not known (...|Mid Junction - on...|     HONDA|                SH50|             NA|         Male|                    None|    No tow/articulation|       Did not leave car...|                               0|   Going ahead other|                1|Motorcycle 125cc ...|                         No|            Nearside|\n",
      "| 200501SX20827|             A|           1000|  Unclassified|              0|           Slight|               None|2005-10-08 00:00:00|   Saturday|                                          1|Give way or uncon...|Private drive or ...|51.634273|Darkness - lights...|                    Barnet|                   Barnet|               526320|                194410|-0.176151|                E01000282|                   1|                 2|                                0|                                      0|Metropolitan Police|            Wet or damp|Single carriageway|                      None|         30|19:10|              Urban|Raining no high w...|2005|        No|           26 - 35|             7|           Urban area|                5|                 487|                     None|                      None|     Other/Not known (...|Mid Junction - on...|    SUZUKI|           GS 500 EW|         Petrol|         Male|                    None|    No tow/articulation|       Did not leave car...|                               0|          Moving off|                2|Motorcycle over 1...|                         No|                Back|\n",
      "| 200501TB00081|             A|            406|            NA|              0|           Slight|               None|2005-01-26 00:00:00|  Wednesday|                                          1|Data missing or o...|Not at junction o...|51.571528|            Daylight|                    Barnet|                   Barnet|               522730|                187340| -0.23047|                E01000223|                   2|                 2|                                0|                                      0|Metropolitan Police|                    Dry|  Dual carriageway|                      None|         50|08:40|              Urban|  Fine no high winds|2005|        No|           26 - 35|             7|           Urban area|                7|                1998|                     None|                      None|     Other/Not known (...|Not at or within ...|  VAUXHALL|      VECTRA GLS 16V|         Petrol|         Male|                    None|    No tow/articulation|       Did not leave car...|                               0|   Going ahead other|                2|                 Car|                         No|      Did not impact|\n",
      "+--------------+--------------+---------------+--------------+---------------+-----------------+-------------------+-------------------+-----------+-------------------------------------------+--------------------+--------------------+---------+--------------------+--------------------------+-------------------------+---------------------+----------------------+---------+-------------------------+--------------------+------------------+---------------------------------+---------------------------------------+-------------------+-----------------------+------------------+--------------------------+-----------+-----+-------------------+--------------------+----+----------+------------------+--------------+---------------------+-----------------+--------------------+-------------------------+--------------------------+-------------------------+--------------------+----------+--------------------+---------------+-------------+------------------------+-----------------------+---------------------------+--------------------------------+--------------------+-----------------+--------------------+---------------------------+--------------------+\n",
      "\n"
     ]
    }
   ],
   "source": [
    "combinedDF.filter((combinedDF['Sex_of_Driver'] == 'Male') & (col('Age_Band_of_Driver').like('26%'))).limit(10).show()"
   ]
  },
  {
   "cell_type": "code",
   "execution_count": 13,
   "metadata": {},
   "outputs": [],
   "source": [
    "dataDF=combinedDF.select(combinedDF.Year,combinedDF.Number_of_Casualties).groupBy('Year').agg({'Number_of_Casualties' : 'count'}).orderBy('Year').toPandas()"
   ]
  },
  {
   "cell_type": "code",
   "execution_count": 14,
   "metadata": {},
   "outputs": [],
   "source": [
    "year = dataDF['Year'].tolist()\n",
    "\n",
    "casualties = dataDF['count(Number_of_Casualties)'].tolist()"
   ]
  },
  {
   "cell_type": "code",
   "execution_count": 61,
   "metadata": {},
   "outputs": [
    {
     "data": {
      "text/plain": [
       "Text(0.5,1,'Number of Casualties per Year')"
      ]
     },
     "execution_count": 61,
     "metadata": {},
     "output_type": "execute_result"
    },
    {
     "data": {
      "image/png": "[encoded data removed]",
      "text/plain": [
       "<matplotlib.figure.Figure at 0x7f401b3b8b70>"
      ]
     },
     "metadata": {
      "needs_background": "light"
     },
     "output_type": "display_data"
    }
   ],
   "source": [
    "plt.bar(year,casualties,label=\"Casualties\",color='b')\n",
    "plt.legend()\n",
    "plt.xlabel(\"Year\")\n",
    "plt.ylabel(\"Number of Casualties\")\n",
    "plt.title(\"Number of Casualties per Year\")"
   ]
  },
  {
   "cell_type": "code",
   "execution_count": 201,
   "metadata": {},
   "outputs": [],
   "source": [
    "vehicle_ManoeuvreDF=combinedDF.select(combinedDF.Vehicle_Manoeuvre).groupBy('Vehicle_Manoeuvre').agg({'Vehicle_Manoeuvre' : 'count'}).orderBy('count(Vehicle_Manoeuvre)').limit(10).toPandas()"
   ]
  },
  {
   "cell_type": "code",
   "execution_count": 202,
   "metadata": {},
   "outputs": [],
   "source": [
    "manoeuvre = vehicle_ManoeuvreDF['Vehicle_Manoeuvre'].tolist()\n",
    "\n",
    "count_manoeuvre = vehicle_ManoeuvreDF['count(Vehicle_Manoeuvre)'].tolist()"
   ]
  },
  {
   "cell_type": "code",
   "execution_count": 203,
   "metadata": {},
   "outputs": [
    {
     "data": {
      "application/vnd.plotly.v1+json": {
       "config": {
        "linkText": "Export to plot.ly",
        "plotlyServerURL": "https://plot.ly",
        "showLink": false
       },
       "data": [
        {
         "labels": [
          "Data missing or out of range",
          "Overtaking - nearside",
          "Waiting to turn left",
          "U-turn",
          "Changing lane to right",
          "Changing lane to left",
          "Overtaking static vehicle - offside",
          "Reversing",
          "Waiting to turn right",
          "Overtaking moving vehicle - offside"
         ],
         "marker": {
          "colors": [
           "#25e475",
           "#ee1c96"
          ]
         },
         "type": "pie",
         "uid": "0b5084d0-4fab-4a5c-aa12-63f0a0760f92",
         "values": [
          1297,
          10658,
          11657,
          16379,
          17843,
          18105,
          24777,
          29090,
          34485,
          40856
         ]
        }
       ],
       "layout": {
        "height": 500,
        "title": {
         "text": "Reason of Accident"
        },
        "width": 800
       }
      },
      "text/html": [
       "<div id=\"8775c44c-b957-4cbb-b26d-583311bf1eef\" style=\"height: 500px; width: 800px;\" class=\"plotly-graph-div\"></div><script type=\"text/javascript\">require([\"plotly\"], function(Plotly) { window.PLOTLYENV=window.PLOTLYENV || {};window.PLOTLYENV.BASE_URL=\"https://plot.ly\";Plotly.newPlot(\"8775c44c-b957-4cbb-b26d-583311bf1eef\", [{\"labels\": [\"Data missing or out of range\", \"Overtaking - nearside\", \"Waiting to turn left\", \"U-turn\", \"Changing lane to right\", \"Changing lane to left\", \"Overtaking static vehicle - offside\", \"Reversing\", \"Waiting to turn right\", \"Overtaking moving vehicle - offside\"], \"marker\": {\"colors\": [\"#25e475\", \"#ee1c96\"]}, \"values\": [1297, 10658, 11657, 16379, 17843, 18105, 24777, 29090, 34485, 40856], \"type\": \"pie\", \"uid\": \"0b5084d0-4fab-4a5c-aa12-63f0a0760f92\"}], {\"height\": 500, \"title\": {\"text\": \"Reason of Accident\"}, \"width\": 800}, {\"showLink\": false, \"linkText\": \"Export to plot.ly\", \"plotlyServerURL\": \"https://plot.ly\"})});</script>"
      ],
      "text/vnd.plotly.v1+html": [
       "<div id=\"8775c44c-b957-4cbb-b26d-583311bf1eef\" style=\"height: 500px; width: 800px;\" class=\"plotly-graph-div\"></div><script type=\"text/javascript\">require([\"plotly\"], function(Plotly) { window.PLOTLYENV=window.PLOTLYENV || {};window.PLOTLYENV.BASE_URL=\"https://plot.ly\";Plotly.newPlot(\"8775c44c-b957-4cbb-b26d-583311bf1eef\", [{\"labels\": [\"Data missing or out of range\", \"Overtaking - nearside\", \"Waiting to turn left\", \"U-turn\", \"Changing lane to right\", \"Changing lane to left\", \"Overtaking static vehicle - offside\", \"Reversing\", \"Waiting to turn right\", \"Overtaking moving vehicle - offside\"], \"marker\": {\"colors\": [\"#25e475\", \"#ee1c96\"]}, \"values\": [1297, 10658, 11657, 16379, 17843, 18105, 24777, 29090, 34485, 40856], \"type\": \"pie\", \"uid\": \"0b5084d0-4fab-4a5c-aa12-63f0a0760f92\"}], {\"height\": 500, \"title\": {\"text\": \"Reason of Accident\"}, \"width\": 800}, {\"showLink\": false, \"linkText\": \"Export to plot.ly\", \"plotlyServerURL\": \"https://plot.ly\"})});</script>"
      ]
     },
     "metadata": {},
     "output_type": "display_data"
    }
   ],
   "source": [
    "pie_visual = go.Pie(labels=manoeuvre, values=count_manoeuvre, marker=dict(colors=['#25e475', '#ee1c96',]))\n",
    "\n",
    "layout = go.Layout(title='Reason of Accident', width=800, height=500)\n",
    "fig = go.Figure(data=[pie_visual], layout=layout)\n",
    "iplot(fig)"
   ]
  },
  {
   "cell_type": "code",
   "execution_count": null,
   "metadata": {},
   "outputs": [],
   "source": []
  },
  {
   "cell_type": "code",
   "execution_count": 145,
   "metadata": {},
   "outputs": [],
   "source": [
    "genderDF=combinedDF.select('Accident_Index','Year','Age_Band_of_Driver','Sex_of_Driver').groupBy('Sex_of_Driver','Age_Band_of_Driver').agg({'Accident_Index' : 'count'}).orderBy('count(Accident_Index)',ascending=False).toPandas()"
   ]
  },
  {
   "cell_type": "code",
   "execution_count": 179,
   "metadata": {},
   "outputs": [],
   "source": [
    "maleDF=genderDF[genderDF['Sex_of_Driver']=='Male'].head(6)\n",
    "male_age_band=maleDF['Age_Band_of_Driver'].tolist()\n",
    "male_accident_count=maleDF['count(Accident_Index)'].tolist()"
   ]
  },
  {
   "cell_type": "code",
   "execution_count": 180,
   "metadata": {},
   "outputs": [],
   "source": [
    "femaleDF=genderDF[genderDF['Sex_of_Driver']=='Female'].head(6)\n",
    "female_age_band=femaleDF['Age_Band_of_Driver'].tolist()\n",
    "female_accident_count=femaleDF['count(Accident_Index)'].tolist()"
   ]
  },
  {
   "cell_type": "code",
   "execution_count": 184,
   "metadata": {},
   "outputs": [
    {
     "data": {
      "text/html": [
       "<script type=\"text/javascript\">window.PlotlyConfig = {MathJaxConfig: 'local'};</script><script type=\"text/javascript\">if (window.MathJax) {MathJax.Hub.Config({SVG: {font: \"STIX-Web\"}});}</script><script>requirejs.config({paths: { 'plotly': ['https://cdn.plot.ly/plotly-latest.min']},});if(!window._Plotly) {require(['plotly'],function(plotly) {window._Plotly=plotly;});}</script>"
      ],
      "text/vnd.plotly.v1+html": [
       "<script type=\"text/javascript\">window.PlotlyConfig = {MathJaxConfig: 'local'};</script><script type=\"text/javascript\">if (window.MathJax) {MathJax.Hub.Config({SVG: {font: \"STIX-Web\"}});}</script><script>requirejs.config({paths: { 'plotly': ['https://cdn.plot.ly/plotly-latest.min']},});if(!window._Plotly) {require(['plotly'],function(plotly) {window._Plotly=plotly;});}</script>"
      ]
     },
     "metadata": {},
     "output_type": "display_data"
    },
    {
     "data": {
      "application/vnd.plotly.v1+json": {
       "config": {
        "linkText": "Export to plot.ly",
        "plotlyServerURL": "https://plot.ly",
        "showLink": false
       },
       "data": [
        {
         "marker": {
          "color": "#f259d6"
         },
         "name": "Male Drivers",
         "opacity": 0.8,
         "type": "bar",
         "uid": "97c20280-e6ca-4120-acec-effe8a5d9bd8",
         "x": [
          "26 - 35",
          "36 - 45",
          "46 - 55",
          "21 - 25",
          "56 - 65",
          "16 - 20"
         ],
         "y": [
          287379,
          279454,
          232553,
          149759,
          142134,
          114627
         ]
        },
        {
         "marker": {
          "color": "#f7bb31"
         },
         "name": "Female Drivers",
         "opacity": 0.8,
         "type": "bar",
         "uid": "c1faf8c0-3a76-4bd7-9e57-745c0f0b5219",
         "x": [
          "26 - 35",
          "36 - 45",
          "46 - 55",
          "21 - 25",
          "56 - 65",
          "16 - 20"
         ],
         "y": [
          134236,
          128007,
          97851,
          76147,
          52753,
          50738
         ]
        }
       ],
       "layout": {
        "barmode": "group",
        "legend": {
         "x": -0.1,
         "y": 1.2
        },
        "margin": {
         "b": 120
        },
        "title": {
         "text": "Accidents categorized by gender"
        }
       }
      },
      "text/html": [
       "<div id=\"559a6913-0c9f-4a28-b8a3-d7dffcfce042\" style=\"height: 525px; width: 100%;\" class=\"plotly-graph-div\"></div><script type=\"text/javascript\">require([\"plotly\"], function(Plotly) { window.PLOTLYENV=window.PLOTLYENV || {};window.PLOTLYENV.BASE_URL=\"https://plot.ly\";Plotly.newPlot(\"559a6913-0c9f-4a28-b8a3-d7dffcfce042\", [{\"marker\": {\"color\": \"#f259d6\"}, \"name\": \"Male Drivers\", \"opacity\": 0.8, \"x\": [\"26 - 35\", \"36 - 45\", \"46 - 55\", \"21 - 25\", \"56 - 65\", \"16 - 20\"], \"y\": [287379, 279454, 232553, 149759, 142134, 114627], \"type\": \"bar\", \"uid\": \"97c20280-e6ca-4120-acec-effe8a5d9bd8\"}, {\"marker\": {\"color\": \"#f7bb31\"}, \"name\": \"Female Drivers\", \"opacity\": 0.8, \"x\": [\"26 - 35\", \"36 - 45\", \"46 - 55\", \"21 - 25\", \"56 - 65\", \"16 - 20\"], \"y\": [134236, 128007, 97851, 76147, 52753, 50738], \"type\": \"bar\", \"uid\": \"c1faf8c0-3a76-4bd7-9e57-745c0f0b5219\"}], {\"barmode\": \"group\", \"legend\": {\"x\": -0.1, \"y\": 1.2}, \"margin\": {\"b\": 120}, \"title\": {\"text\": \"Accidents categorized by gender\"}}, {\"showLink\": false, \"linkText\": \"Export to plot.ly\", \"plotlyServerURL\": \"https://plot.ly\"})});</script><script type=\"text/javascript\">window.addEventListener(\"resize\", function(){window._Plotly.Plots.resize(document.getElementById(\"559a6913-0c9f-4a28-b8a3-d7dffcfce042\"));});</script>"
      ],
      "text/vnd.plotly.v1+html": [
       "<div id=\"559a6913-0c9f-4a28-b8a3-d7dffcfce042\" style=\"height: 525px; width: 100%;\" class=\"plotly-graph-div\"></div><script type=\"text/javascript\">require([\"plotly\"], function(Plotly) { window.PLOTLYENV=window.PLOTLYENV || {};window.PLOTLYENV.BASE_URL=\"https://plot.ly\";Plotly.newPlot(\"559a6913-0c9f-4a28-b8a3-d7dffcfce042\", [{\"marker\": {\"color\": \"#f259d6\"}, \"name\": \"Male Drivers\", \"opacity\": 0.8, \"x\": [\"26 - 35\", \"36 - 45\", \"46 - 55\", \"21 - 25\", \"56 - 65\", \"16 - 20\"], \"y\": [287379, 279454, 232553, 149759, 142134, 114627], \"type\": \"bar\", \"uid\": \"97c20280-e6ca-4120-acec-effe8a5d9bd8\"}, {\"marker\": {\"color\": \"#f7bb31\"}, \"name\": \"Female Drivers\", \"opacity\": 0.8, \"x\": [\"26 - 35\", \"36 - 45\", \"46 - 55\", \"21 - 25\", \"56 - 65\", \"16 - 20\"], \"y\": [134236, 128007, 97851, 76147, 52753, 50738], \"type\": \"bar\", \"uid\": \"c1faf8c0-3a76-4bd7-9e57-745c0f0b5219\"}], {\"barmode\": \"group\", \"legend\": {\"x\": -0.1, \"y\": 1.2}, \"margin\": {\"b\": 120}, \"title\": {\"text\": \"Accidents categorized by gender\"}}, {\"showLink\": false, \"linkText\": \"Export to plot.ly\", \"plotlyServerURL\": \"https://plot.ly\"})});</script><script type=\"text/javascript\">window.addEventListener(\"resize\", function(){window._Plotly.Plots.resize(document.getElementById(\"559a6913-0c9f-4a28-b8a3-d7dffcfce042\"));});</script>"
      ]
     },
     "metadata": {},
     "output_type": "display_data"
    }
   ],
   "source": [
    "trace1 = go.Bar(\n",
    "    x=male_age_band,\n",
    "    y=male_accident_count,\n",
    "    name='Male Drivers',\n",
    "    marker=dict(color='#f259d6'),\n",
    "    opacity=0.8\n",
    ")\n",
    "trace2 = go.Bar(\n",
    "    x=female_age_band,\n",
    "    y=female_accident_count,\n",
    "    name='Female Drivers',\n",
    "    marker=dict(color='#f7bb31'),\n",
    "    opacity=0.8\n",
    ")\n",
    "data = [trace1, trace2]\n",
    "layout = go.Layout(\n",
    "    barmode='group',\n",
    "    legend=dict(dict(x=-.1, y=1.2)),\n",
    "    margin=dict(b=120),\n",
    "    title = 'Accidents categorized by gender',\n",
    ")\n",
    "\n",
    "fig = go.Figure(data=data, layout=layout)\n",
    "iplot(fig, filename='grouped-bar')\n",
    "\n",
    "plt.show()"
   ]
  },
  {
   "cell_type": "code",
   "execution_count": 191,
   "metadata": {},
   "outputs": [],
   "source": [
    "journey_purposeDF=combinedDF.select('Accident_Index','Journey_Purpose_of_Driver').groupBy('Journey_Purpose_of_Driver').agg({'Accident_Index' : 'count'}).orderBy('count(Accident_Index)',ascending=False).toPandas()"
   ]
  },
  {
   "cell_type": "code",
   "execution_count": 190,
   "metadata": {},
   "outputs": [
    {
     "data": {
      "text/plain": [
       "[4298, 14763, 21792, 32965, 202525, 391713, 555726, 834626]"
      ]
     },
     "execution_count": 190,
     "metadata": {},
     "output_type": "execute_result"
    }
   ],
   "source": [
    "journey_label=journey_purposeDF['Journey_Purpose_of_Driver'].tolist()\n",
    "accident_count=journey_purposeDF['count(Accident_Index)'].tolist()\n",
    "accident_count"
   ]
  },
  {
   "cell_type": "code",
   "execution_count": 199,
   "metadata": {},
   "outputs": [
    {
     "data": {
      "application/vnd.plotly.v1+json": {
       "config": {
        "linkText": "Export to plot.ly",
        "plotlyServerURL": "https://plot.ly",
        "showLink": false
       },
       "data": [
        {
         "labels": [
          "Pupil riding to/from school",
          "Data missing or out of range",
          "Taking pupil to/from school",
          "Other",
          "Commuting to/from work",
          "Journey as part of work",
          "Other/Not known (2005-10)",
          "Not known"
         ],
         "marker": {
          "colors": [
           "#25e475",
           "#ee1c96"
          ]
         },
         "type": "pie",
         "uid": "ae3a4662-fa78-4a22-acb2-20fb4d6d1766",
         "values": [
          4298,
          14763,
          21792,
          32965,
          202525,
          391713,
          555726,
          834626
         ]
        }
       ],
       "layout": {
        "height": 500,
        "title": {
         "text": "Journey Purpose while Accident Happened"
        },
        "width": 800
       }
      },
      "text/html": [
       "<div id=\"15aac2fc-a448-46e6-8836-f72ae144ac19\" style=\"height: 500px; width: 800px;\" class=\"plotly-graph-div\"></div><script type=\"text/javascript\">require([\"plotly\"], function(Plotly) { window.PLOTLYENV=window.PLOTLYENV || {};window.PLOTLYENV.BASE_URL=\"https://plot.ly\";Plotly.newPlot(\"15aac2fc-a448-46e6-8836-f72ae144ac19\", [{\"labels\": [\"Pupil riding to/from school\", \"Data missing or out of range\", \"Taking pupil to/from school\", \"Other\", \"Commuting to/from work\", \"Journey as part of work\", \"Other/Not known (2005-10)\", \"Not known\"], \"marker\": {\"colors\": [\"#25e475\", \"#ee1c96\"]}, \"values\": [4298, 14763, 21792, 32965, 202525, 391713, 555726, 834626], \"type\": \"pie\", \"uid\": \"ae3a4662-fa78-4a22-acb2-20fb4d6d1766\"}], {\"height\": 500, \"title\": {\"text\": \"Journey Purpose while Accident Happened\"}, \"width\": 800}, {\"showLink\": false, \"linkText\": \"Export to plot.ly\", \"plotlyServerURL\": \"https://plot.ly\"})});</script>"
      ],
      "text/vnd.plotly.v1+html": [
       "<div id=\"15aac2fc-a448-46e6-8836-f72ae144ac19\" style=\"height: 500px; width: 800px;\" class=\"plotly-graph-div\"></div><script type=\"text/javascript\">require([\"plotly\"], function(Plotly) { window.PLOTLYENV=window.PLOTLYENV || {};window.PLOTLYENV.BASE_URL=\"https://plot.ly\";Plotly.newPlot(\"15aac2fc-a448-46e6-8836-f72ae144ac19\", [{\"labels\": [\"Pupil riding to/from school\", \"Data missing or out of range\", \"Taking pupil to/from school\", \"Other\", \"Commuting to/from work\", \"Journey as part of work\", \"Other/Not known (2005-10)\", \"Not known\"], \"marker\": {\"colors\": [\"#25e475\", \"#ee1c96\"]}, \"values\": [4298, 14763, 21792, 32965, 202525, 391713, 555726, 834626], \"type\": \"pie\", \"uid\": \"ae3a4662-fa78-4a22-acb2-20fb4d6d1766\"}], {\"height\": 500, \"title\": {\"text\": \"Journey Purpose while Accident Happened\"}, \"width\": 800}, {\"showLink\": false, \"linkText\": \"Export to plot.ly\", \"plotlyServerURL\": \"https://plot.ly\"})});</script>"
      ]
     },
     "metadata": {},
     "output_type": "display_data"
    }
   ],
   "source": [
    "pie_visual = go.Pie(labels=journey_label, values=accident_count, marker=dict(colors=['#25e475', '#ee1c96',]))\n",
    "\n",
    "layout = go.Layout(title='Journey Purpose while Accident Happened', width=800, height=500)\n",
    "fig = go.Figure(data=[pie_visual], layout=layout)\n",
    "iplot(fig)"
   ]
  },
  {
   "cell_type": "code",
   "execution_count": 205,
   "metadata": {},
   "outputs": [],
   "source": [
    "accident_roadDF=combinedDF.select('Accident_Index','Road_Type').groupBy('Road_Type').agg({'Accident_Index' : 'count'}).orderBy('count(Accident_Index)',ascending=False).toPandas()"
   ]
  },
  {
   "cell_type": "code",
   "execution_count": 206,
   "metadata": {},
   "outputs": [],
   "source": [
    "road_type=accident_roadDF['Road_Type'].tolist()\n",
    "accident_count=accident_roadDF['count(Accident_Index)'].tolist()"
   ]
  },
  {
   "cell_type": "code",
   "execution_count": 207,
   "metadata": {},
   "outputs": [
    {
     "data": {
      "application/vnd.plotly.v1+json": {
       "config": {
        "linkText": "Export to plot.ly",
        "plotlyServerURL": "https://plot.ly",
        "showLink": false
       },
       "data": [
        {
         "labels": [
          "Single carriageway",
          "Dual carriageway",
          "Roundabout",
          "One way street",
          "Slip road",
          "Unknown",
          "Data missing or out of range"
         ],
         "marker": {
          "colors": [
           "#25e475",
           "#ee1c96"
          ]
         },
         "type": "pie",
         "uid": "dcd65d6c-7001-476f-83a6-f94c8cae1ae5",
         "values": [
          1494448,
          351367,
          140962,
          36514,
          24337,
          10778,
          2
         ]
        }
       ],
       "layout": {
        "height": 500,
        "title": {
         "text": "Journey Purpose while Accident Happened"
        },
        "width": 800
       }
      },
      "text/html": [
       "<div id=\"03ed0d2f-5e54-4c7d-82e4-8afc238290e2\" style=\"height: 500px; width: 800px;\" class=\"plotly-graph-div\"></div><script type=\"text/javascript\">require([\"plotly\"], function(Plotly) { window.PLOTLYENV=window.PLOTLYENV || {};window.PLOTLYENV.BASE_URL=\"https://plot.ly\";Plotly.newPlot(\"03ed0d2f-5e54-4c7d-82e4-8afc238290e2\", [{\"labels\": [\"Single carriageway\", \"Dual carriageway\", \"Roundabout\", \"One way street\", \"Slip road\", \"Unknown\", \"Data missing or out of range\"], \"marker\": {\"colors\": [\"#25e475\", \"#ee1c96\"]}, \"values\": [1494448, 351367, 140962, 36514, 24337, 10778, 2], \"type\": \"pie\", \"uid\": \"dcd65d6c-7001-476f-83a6-f94c8cae1ae5\"}], {\"height\": 500, \"title\": {\"text\": \"Journey Purpose while Accident Happened\"}, \"width\": 800}, {\"showLink\": false, \"linkText\": \"Export to plot.ly\", \"plotlyServerURL\": \"https://plot.ly\"})});</script>"
      ],
      "text/vnd.plotly.v1+html": [
       "<div id=\"03ed0d2f-5e54-4c7d-82e4-8afc238290e2\" style=\"height: 500px; width: 800px;\" class=\"plotly-graph-div\"></div><script type=\"text/javascript\">require([\"plotly\"], function(Plotly) { window.PLOTLYENV=window.PLOTLYENV || {};window.PLOTLYENV.BASE_URL=\"https://plot.ly\";Plotly.newPlot(\"03ed0d2f-5e54-4c7d-82e4-8afc238290e2\", [{\"labels\": [\"Single carriageway\", \"Dual carriageway\", \"Roundabout\", \"One way street\", \"Slip road\", \"Unknown\", \"Data missing or out of range\"], \"marker\": {\"colors\": [\"#25e475\", \"#ee1c96\"]}, \"values\": [1494448, 351367, 140962, 36514, 24337, 10778, 2], \"type\": \"pie\", \"uid\": \"dcd65d6c-7001-476f-83a6-f94c8cae1ae5\"}], {\"height\": 500, \"title\": {\"text\": \"Journey Purpose while Accident Happened\"}, \"width\": 800}, {\"showLink\": false, \"linkText\": \"Export to plot.ly\", \"plotlyServerURL\": \"https://plot.ly\"})});</script>"
      ]
     },
     "metadata": {},
     "output_type": "display_data"
    }
   ],
   "source": [
    "pie_visual = go.Pie(labels=road_type, values=accident_count, marker=dict(colors=['#25e475', '#ee1c96',]))\n",
    "\n",
    "layout = go.Layout(title='Journey Purpose while Accident Happened', width=800, height=500)\n",
    "fig = go.Figure(data=[pie_visual], layout=layout)\n",
    "iplot(fig)"
   ]
  },
  {
   "cell_type": "code",
   "execution_count": 216,
   "metadata": {},
   "outputs": [],
   "source": [
    "day_of_week_DF=combinedDF.select('Accident_Index','Day_of_Week').groupBy('Day_of_Week').agg({'Accident_Index' : 'count'}).orderBy('count(Accident_Index)',ascending=False).toPandas()"
   ]
  },
  {
   "cell_type": "code",
   "execution_count": 218,
   "metadata": {},
   "outputs": [],
   "source": [
    "weekday_name=day_of_week_DF['Day_of_Week'].tolist()\n",
    "accident_count=day_of_week_DF['count(Accident_Index)'].tolist()"
   ]
  },
  {
   "cell_type": "code",
   "execution_count": 219,
   "metadata": {},
   "outputs": [
    {
     "data": {
      "application/vnd.plotly.v1+json": {
       "config": {
        "linkText": "Export to plot.ly",
        "plotlyServerURL": "https://plot.ly",
        "showLink": false
       },
       "data": [
        {
         "labels": [
          "Friday",
          "Thursday",
          "Wednesday",
          "Tuesday",
          "Monday",
          "Saturday",
          "Sunday"
         ],
         "marker": {
          "colors": [
           "#25e475",
           "#ee1c96"
          ]
         },
         "type": "pie",
         "uid": "365de022-b990-49e2-9f7b-df35272fce13",
         "values": [
          341797,
          314431,
          314087,
          311992,
          294502,
          265335,
          216264
         ]
        }
       ],
       "layout": {
        "height": 500,
        "title": {
         "text": "Accidents categorized in Day of Week"
        },
        "width": 800
       }
      },
      "text/html": [
       "<div id=\"59bd8ee9-d61a-427a-83bb-d25f78108c5a\" style=\"height: 500px; width: 800px;\" class=\"plotly-graph-div\"></div><script type=\"text/javascript\">require([\"plotly\"], function(Plotly) { window.PLOTLYENV=window.PLOTLYENV || {};window.PLOTLYENV.BASE_URL=\"https://plot.ly\";Plotly.newPlot(\"59bd8ee9-d61a-427a-83bb-d25f78108c5a\", [{\"labels\": [\"Friday\", \"Thursday\", \"Wednesday\", \"Tuesday\", \"Monday\", \"Saturday\", \"Sunday\"], \"marker\": {\"colors\": [\"#25e475\", \"#ee1c96\"]}, \"values\": [341797, 314431, 314087, 311992, 294502, 265335, 216264], \"type\": \"pie\", \"uid\": \"365de022-b990-49e2-9f7b-df35272fce13\"}], {\"height\": 500, \"title\": {\"text\": \"Accidents categorized in Day of Week\"}, \"width\": 800}, {\"showLink\": false, \"linkText\": \"Export to plot.ly\", \"plotlyServerURL\": \"https://plot.ly\"})});</script>"
      ],
      "text/vnd.plotly.v1+html": [
       "<div id=\"59bd8ee9-d61a-427a-83bb-d25f78108c5a\" style=\"height: 500px; width: 800px;\" class=\"plotly-graph-div\"></div><script type=\"text/javascript\">require([\"plotly\"], function(Plotly) { window.PLOTLYENV=window.PLOTLYENV || {};window.PLOTLYENV.BASE_URL=\"https://plot.ly\";Plotly.newPlot(\"59bd8ee9-d61a-427a-83bb-d25f78108c5a\", [{\"labels\": [\"Friday\", \"Thursday\", \"Wednesday\", \"Tuesday\", \"Monday\", \"Saturday\", \"Sunday\"], \"marker\": {\"colors\": [\"#25e475\", \"#ee1c96\"]}, \"values\": [341797, 314431, 314087, 311992, 294502, 265335, 216264], \"type\": \"pie\", \"uid\": \"365de022-b990-49e2-9f7b-df35272fce13\"}], {\"height\": 500, \"title\": {\"text\": \"Accidents categorized in Day of Week\"}, \"width\": 800}, {\"showLink\": false, \"linkText\": \"Export to plot.ly\", \"plotlyServerURL\": \"https://plot.ly\"})});</script>"
      ]
     },
     "metadata": {},
     "output_type": "display_data"
    }
   ],
   "source": [
    "pie_visual = go.Pie(labels=weekday_name, values=accident_count, marker=dict(colors=['#25e475', '#ee1c96',]))\n",
    "\n",
    "layout = go.Layout(title='Accidents categorized in Day of Week', width=800, height=500)\n",
    "fig = go.Figure(data=[pie_visual], layout=layout)\n",
    "iplot(fig)"
   ]
  },
  {
   "cell_type": "code",
   "execution_count": 227,
   "metadata": {},
   "outputs": [],
   "source": [
    "vehicle_makerDF=combinedDF.select('Accident_Index','make').groupBy('make').agg({'Accident_Index' : 'count'}).orderBy('count(Accident_Index)',ascending=False).limit(10).toPandas()"
   ]
  },
  {
   "cell_type": "code",
   "execution_count": 228,
   "metadata": {},
   "outputs": [],
   "source": [
    "maker_name=vehicle_makerDF['make'].tolist()\n",
    "accident_count=vehicle_makerDF['count(Accident_Index)'].tolist()"
   ]
  },
  {
   "cell_type": "code",
   "execution_count": 229,
   "metadata": {},
   "outputs": [
    {
     "data": {
      "application/vnd.plotly.v1+json": {
       "config": {
        "linkText": "Export to plot.ly",
        "plotlyServerURL": "https://plot.ly",
        "showLink": false
       },
       "data": [
        {
         "labels": [
          "VAUXHALL",
          "FORD",
          "PEUGEOT",
          "VOLKSWAGEN",
          "NULL",
          "RENAULT",
          "HONDA",
          "MERCEDES",
          "TOYOTA",
          "CITROEN"
         ],
         "marker": {
          "colors": [
           "#25e475",
           "#ee1c96"
          ]
         },
         "type": "pie",
         "uid": "fbc27d53-734f-454e-a134-cfcfdef80833",
         "values": [
          228068,
          226657,
          119953,
          117649,
          110845,
          106630,
          96695,
          84907,
          79888,
          76082
         ]
        }
       ],
       "layout": {
        "height": 500,
        "title": {
         "text": "Accidents categorized in Day of Week"
        },
        "width": 800
       }
      },
      "text/html": [
       "<div id=\"ea4e554a-945e-48d8-91b3-c51b3a77d9ec\" style=\"height: 500px; width: 800px;\" class=\"plotly-graph-div\"></div><script type=\"text/javascript\">require([\"plotly\"], function(Plotly) { window.PLOTLYENV=window.PLOTLYENV || {};window.PLOTLYENV.BASE_URL=\"https://plot.ly\";Plotly.newPlot(\"ea4e554a-945e-48d8-91b3-c51b3a77d9ec\", [{\"labels\": [\"VAUXHALL\", \"FORD\", \"PEUGEOT\", \"VOLKSWAGEN\", \"NULL\", \"RENAULT\", \"HONDA\", \"MERCEDES\", \"TOYOTA\", \"CITROEN\"], \"marker\": {\"colors\": [\"#25e475\", \"#ee1c96\"]}, \"values\": [228068, 226657, 119953, 117649, 110845, 106630, 96695, 84907, 79888, 76082], \"type\": \"pie\", \"uid\": \"fbc27d53-734f-454e-a134-cfcfdef80833\"}], {\"height\": 500, \"title\": {\"text\": \"Accidents categorized in Day of Week\"}, \"width\": 800}, {\"showLink\": false, \"linkText\": \"Export to plot.ly\", \"plotlyServerURL\": \"https://plot.ly\"})});</script>"
      ],
      "text/vnd.plotly.v1+html": [
       "<div id=\"ea4e554a-945e-48d8-91b3-c51b3a77d9ec\" style=\"height: 500px; width: 800px;\" class=\"plotly-graph-div\"></div><script type=\"text/javascript\">require([\"plotly\"], function(Plotly) { window.PLOTLYENV=window.PLOTLYENV || {};window.PLOTLYENV.BASE_URL=\"https://plot.ly\";Plotly.newPlot(\"ea4e554a-945e-48d8-91b3-c51b3a77d9ec\", [{\"labels\": [\"VAUXHALL\", \"FORD\", \"PEUGEOT\", \"VOLKSWAGEN\", \"NULL\", \"RENAULT\", \"HONDA\", \"MERCEDES\", \"TOYOTA\", \"CITROEN\"], \"marker\": {\"colors\": [\"#25e475\", \"#ee1c96\"]}, \"values\": [228068, 226657, 119953, 117649, 110845, 106630, 96695, 84907, 79888, 76082], \"type\": \"pie\", \"uid\": \"fbc27d53-734f-454e-a134-cfcfdef80833\"}], {\"height\": 500, \"title\": {\"text\": \"Accidents categorized in Day of Week\"}, \"width\": 800}, {\"showLink\": false, \"linkText\": \"Export to plot.ly\", \"plotlyServerURL\": \"https://plot.ly\"})});</script>"
      ]
     },
     "metadata": {},
     "output_type": "display_data"
    }
   ],
   "source": [
    "pie_visual = go.Pie(labels=maker_name, values=accident_count, marker=dict(colors=['#25e475', '#ee1c96',]))\n",
    "\n",
    "layout = go.Layout(title='Accidents categorized in Day of Week', width=800, height=500)\n",
    "fig = go.Figure(data=[pie_visual], layout=layout)\n",
    "iplot(fig)"
   ]
  },
  {
   "cell_type": "code",
   "execution_count": 234,
   "metadata": {},
   "outputs": [],
   "source": [
    "vehicleDF= combinedDF.select(combinedDF.Accident_Index,combinedDF.Age_Band_of_Driver,combinedDF.Age_of_Vehicle,combinedDF.Journey_Purpose_of_Driver,combinedDF.make,combinedDF.model, combinedDF.Junction_Location).filter((col('Age_Band_of_Driver').like('26%')))\n",
    "\n",
    "accidentDF= combinedDF.select(combinedDF.Accident_Index,combinedDF.Date,combinedDF.Day_of_Week,combinedDF.Road_Type,combinedDF.Speed_limit,combinedDF.Year).filter(combinedDF['Day_of_Week'] == 'Tuesday').orderBy('Year',ascending=True)\n",
    "\n",
    "''' Performing Left Outer Join on '''\n",
    "\n",
    "filteredDF = accidentDF.join(vehicleDF,['Accident_Index'], \"left_outer\").drop(accidentDF.Year)"
   ]
  },
  {
   "cell_type": "code",
   "execution_count": 236,
   "metadata": {},
   "outputs": [
    {
     "name": "stdout",
     "output_type": "stream",
     "text": [
      "+--------------+--------------------+--------------+---------------------+-----------------+--------------------+-------------------------+--------------------------+-------------------------+--------------------+----------------+--------------------+---------------+-------------+------------------------+-----------------------+---------------------------+--------------------------------+--------------------+-----------------+--------------------+---------------------------+--------------------+--------------+---------------+--------------+---------------+-----------------+-------------------+-------------------+-----------+-------------------------------------------+--------------------+--------------------+---------+--------------------+--------------------------+-------------------------+---------------------+----------------------+---------+-------------------------+--------------------+------------------+---------------------------------+---------------------------------------+-------------------+-----------------------+------------------+--------------------------+-----------+-----+-------------------+--------------------+----+----------+-------------------+-----------+------------------+-----------+------------------+--------------+-------------------------+------+------------------+--------------------+\n",
      "|Accident_Index|  Age_Band_of_Driver|Age_of_Vehicle|Driver_Home_Area_Type|Driver_IMD_Decile|Engine_Capacity_.CC.|Hit_Object_in_Carriageway|Hit_Object_off_Carriageway|Journey_Purpose_of_Driver|   Junction_Location|            make|               model|Propulsion_Code|Sex_of_Driver|Skidding_and_Overturning|Towing_and_Articulation|Vehicle_Leaving_Carriageway|Vehicle_Location.Restricted_Lane|   Vehicle_Manoeuvre|Vehicle_Reference|        Vehicle_Type|Was_Vehicle_Left_Hand_Drive|X1st_Point_of_Impact|1st_Road_Class|1st_Road_Number|2nd_Road_Class|2nd_Road_Number|Accident_Severity|Carriageway_Hazards|               Date|Day_of_Week|Did_Police_Officer_Attend_Scene_of_Accident|    Junction_Control|     Junction_Detail| Latitude|    Light_Conditions|Local_Authority_(District)|Local_Authority_(Highway)|Location_Easting_OSGR|Location_Northing_OSGR|Longitude|LSOA_of_Accident_Location|Number_of_Casualties|Number_of_Vehicles|Pedestrian_Crossing-Human_Control|Pedestrian_Crossing-Physical_Facilities|       Police_Force|Road_Surface_Conditions|         Road_Type|Special_Conditions_at_Site|Speed_limit| Time|Urban_or_Rural_Area|  Weather_Conditions|Year|InScotland|               Date|Day_of_Week|         Road_Type|Speed_limit|Age_Band_of_Driver|Age_of_Vehicle|Journey_Purpose_of_Driver|  make|             model|   Junction_Location|\n",
      "+--------------+--------------------+--------------+---------------------+-----------------+--------------------+-------------------------+--------------------------+-------------------------+--------------------+----------------+--------------------+---------------+-------------+------------------------+-----------------------+---------------------------+--------------------------------+--------------------+-----------------+--------------------+---------------------------+--------------------+--------------+---------------+--------------+---------------+-----------------+-------------------+-------------------+-----------+-------------------------------------------+--------------------+--------------------+---------+--------------------+--------------------------+-------------------------+---------------------+----------------------+---------+-------------------------+--------------------+------------------+---------------------------------+---------------------------------------+-------------------+-----------------------+------------------+--------------------------+-----------+-----+-------------------+--------------------+----+----------+-------------------+-----------+------------------+-----------+------------------+--------------+-------------------------+------+------------------+--------------------+\n",
      "| 200501CP00212|             46 - 55|             5|           Urban area|                4|                2664|                     None|                      None|     Other/Not known (...|Mid Junction - on...|LONDON TAXIS INT|     TX1 SILVER AUTO|      Heavy oil|         Male|                    None|    No tow/articulation|       Did not leave car...|                               0|       Turning right|                1|Taxi/Private hire...|                         No|            Nearside|             A|           3211|             A|           3211|           Slight|               None|2005-09-20 00:00:00|    Tuesday|                                          1|Give way or uncon...|Private drive or ...| 51.50875|            Daylight|            City of London|           City of London|               533260|                180620|-0.081157|                E01000004|                   1|                 2|                                0|                                      0|     City of London|                    Dry|Single carriageway|                      None|         30|09:00|              Urban|  Fine no high winds|2005|        No|2005-09-20 00:00:00|    Tuesday|Single carriageway|         30|              null|          null|                     null|  null|              null|                null|\n",
      "| 200501HT20374|Data missing or o...|             5|           Urban area|                1|                  49|                     None|                      None|     Other/Not known (...|Approaching junct...|           HONDA|                null|         Petrol|         Male|                    None|    No tow/articulation|       Did not leave car...|                               0|   Going ahead other|                1|Motorcycle 125cc ...|                         No|            Nearside|  Unclassified|              0|             A|             13|          Serious|               None|2005-05-31 00:00:00|    Tuesday|                                          1|Give way or uncon...|T or staggered ju...|51.514628|            Daylight|             Tower Hamlets|            Tower Hamlets|               534620|                181310|-0.061308|                E01004304|                   1|                 2|                                0|                                      0|Metropolitan Police|                    Dry|  Dual carriageway|                      None|         30|18:40|              Urban|  Fine no high winds|2005|        No|2005-05-31 00:00:00|    Tuesday|  Dual carriageway|         30|              null|          null|                     null|  null|              null|                null|\n",
      "| 200501ID60030|             66 - 75|            13|           Urban area|                3|                1118|                     None|                      None|     Other/Not known (...|  Leaving roundabout|            FORD|            FIESTA I|         Petrol|         Male|                    None|    No tow/articulation|       Did not leave car...|                               0| Slowing or stopping|                2|                 Car|                         No|                Back|  Unclassified|              0|  Unclassified|              0|           Slight|               None|2005-05-24 00:00:00|    Tuesday|                                          1|Give way or uncon...|T or staggered ju...|51.473331|            Daylight|      London Airport (H...|     London Airport (H...|               507530|                176070|-0.453143|                E01002444|                   1|                 2|                                0|                                      1|Metropolitan Police|            Wet or damp|  Dual carriageway|                      None|         30|13:18|              Urban|Raining no high w...|2005|        No|2005-05-24 00:00:00|    Tuesday|  Dual carriageway|         30|              null|          null|                     null|  null|              null|                null|\n",
      "| 200501JC30133|             36 - 45|             9|           Urban area|                4|                1762|                     None|                      None|     Other/Not known (...|Not at or within ...|          TOYOTA|  CARINA E SOLAIR SE|         Petrol|         Male|                    None|    No tow/articulation|       Did not leave car...|                               0|   Going ahead other|                1|                 Car|                         No|                Back|  Unclassified|              0|            NA|              0|           Slight|               None|2005-03-01 00:00:00|    Tuesday|                                          1|Data missing or o...|Not at junction o...|51.576401|            Daylight|            Waltham Forest|           Waltham Forest|               536340|                188230|-0.033856|                E01004448|                   1|                 2|                                0|                                      0|Metropolitan Police|                    Dry|Single carriageway|                      None|         30|14:23|              Urban|  Fine no high winds|2005|        No|2005-03-01 00:00:00|    Tuesday|Single carriageway|         30|              null|          null|                     null|  null|              null|                null|\n",
      "| 200501MM70479|             66 - 75|             3|           Urban area|                2|                1390|                     None|                      None|     Other/Not known (...|Cleared junction ...|      VOLKSWAGEN|         LUPO E AUTO|         Petrol|       Female|                    None|    No tow/articulation|       Did not leave car...|                               0|   Going ahead other|                1|                 Car|                         No|               Front|             B|            205|  Unclassified|              0|           Slight|               None|2005-01-11 00:00:00|    Tuesday|                                          1|Give way or uncon...|T or staggered ju...|51.498123|Darkness - lights...|                 Southwark|                Southwark|               536370|                179520|-0.036795|                E01004057|                   1|                 1|                                0|                                      1|Metropolitan Police|                    Dry|Single carriageway|                      None|         30|21:45|              Urban|  Fine no high winds|2005|        No|2005-01-11 00:00:00|    Tuesday|Single carriageway|         30|              null|          null|                     null|  null|              null|                null|\n",
      "| 200501MM71154|             36 - 45|             2|           Urban area|                3|                7300|                     None|                      None|     Journey as part o...|Mid Junction - on...|           VOLVO|                null|      Heavy oil|         Male|                    None|    No tow/articulation|       Did not leave car...|                               2|        Turning left|                1|Bus or coach (17 ...|                         No|            Nearside|             A|              3|             A|            201|          Serious|               None|2005-10-18 00:00:00|    Tuesday|                                          1|Give way or uncon...|          Roundabout|51.494768|            Daylight|                 Southwark|                Southwark|               531950|                179030|-0.100617|                E01003933|                   1|                 2|                                0|                                      0|Metropolitan Police|                    Dry|        Roundabout|                      None|         30|16:20|              Urban|  Fine no high winds|2005|        No|2005-10-18 00:00:00|    Tuesday|        Roundabout|         30|              null|          null|                     null|  null|              null|                null|\n",
      "| 200501PY20273|             Over 75|            12|                Rural|                7|                1120|        Bollard or refuge|                      None|     Other/Not known (...|Not at or within ...|           ROVER|           METRO RIO|         Petrol|         Male|                    None|    No tow/articulation|       Did not leave car...|                               0|   Going ahead other|                1|                 Car|                         No|               Front|             B|            265|            NA|              0|           Slight|               None|2005-04-05 00:00:00|    Tuesday|                                          1|Data missing or o...|Not at junction o...|51.393031|            Daylight|                   Bromley|                  Bromley|               540590|                167940| 0.019362|                E01000671|                   1|                 1|                                0|                                      0|Metropolitan Police|                    Dry|Single carriageway|                      None|         30|15:20|              Urban|  Fine no high winds|2005|        No|2005-04-05 00:00:00|    Tuesday|Single carriageway|         30|              null|          null|                     null|  null|              null|                null|\n",
      "| 200501QK50557|             36 - 45|             3| Data missing or o...|               NA|                7300|                     None|                      None|     Journey as part o...|Not at or within ...|           VOLVO|                null|      Heavy oil|         Male|                    None|    No tow/articulation|       Did not leave car...|                               0| Slowing or stopping|                1|Bus or coach (17 ...|                         No|      Did not impact|             B|            454|            NA|              0|           Slight|               None|2005-08-23 00:00:00|    Tuesday|                                          1|Data missing or o...|Not at junction o...|51.582613|Darkness - lights...|                     Brent|                    Brent|               520500|                188520|-0.262227|                E01000518|                   1|                 1|                                0|                                      0|Metropolitan Police|                    Dry|Single carriageway|                      None|         30|21:15|              Urban|  Fine no high winds|2005|        No|2005-08-23 00:00:00|    Tuesday|Single carriageway|         30|              null|          null|                     null|  null|              null|                null|\n",
      "| 200501VK30222|Data missing or o...|             3|           Urban area|                3|                 599|                     None|                      None|     Other/Not known (...|Mid Junction - on...|             MCC|SMART PULSE SOFTO...|         Petrol|         Male|                    None|    No tow/articulation|       Did not leave car...|                               0|Overtaking moving...|                2|                 Car|                         No|            Nearside|             A|           2043|  Unclassified|              0|           Slight|               None|2005-08-09 00:00:00|    Tuesday|                                          2|Give way or uncon...|T or staggered ju...|51.404702|            Daylight|      Kingston upon Thames|     Kingston upon Thames|               519880|                168710|-0.277895|                E01002973|                   1|                 2|                                0|                                      0|Metropolitan Police|                    Dry|Single carriageway|                      None|         30|16:08|              Urban|  Fine no high winds|2005|        No|2005-08-09 00:00:00|    Tuesday|Single carriageway|         30|              null|          null|                     null|  null|              null|                null|\n",
      "| 200501YE80402|             36 - 45|            10|           Urban area|                6|                1896|                     None|                      None|     Other/Not known (...|Not at or within ...|            AUDI|  A4 1.9 TDI SE AUTO|      Heavy oil|         Male|                    None|    No tow/articulation|       Did not leave car...|                               0|   Going ahead other|                1|                 Car|                         No|               Front|             A|           1003|            NA|              0|           Slight|               None|2005-05-10 00:00:00|    Tuesday|                                          1|Data missing or o...|Not at junction o...|51.624792|            Daylight|                   Enfield|                  Enfield|               529680|                193440|-0.127987|                E01001532|                   1|                 1|                                0|                                      0|Metropolitan Police|                    Dry|Single carriageway|                      None|         30|13:52|              Urban|  Fine no high winds|2005|        No|2005-05-10 00:00:00|    Tuesday|Single carriageway|         30|              null|          null|                     null|  null|              null|                null|\n",
      "| 200501ZD30226|             26 - 35|             2|           Urban area|                4|                  NA|                     None|                      None|     Journey as part o...|Not at or within ...|          SCANIA|                null|      Heavy oil|         Male|                    None|    No tow/articulation|       Did not leave car...|                               0|   Going ahead other|                1|Bus or coach (17 ...|                         No|               Front|             C|              0|            NA|              0|           Slight|               None|2005-02-01 00:00:00|    Tuesday|                                          1|Data missing or o...|Not at junction o...|51.374262|            Daylight|                   Croydon|                  Croydon|               532690|                165640|-0.094976|                E01001045|                   1|                 1|                                0|                                      8|Metropolitan Police|                    Dry|Single carriageway|                      None|         30|10:54|              Urban|  Fine no high winds|2005|        No|2005-02-01 00:00:00|    Tuesday|Single carriageway|         30|           26 - 35|             2|     Journey as part o...|SCANIA|              null|Not at or within ...|\n",
      "| 2005030000826|             16 - 20|             5|                Rural|                7|                1360|                     None|                      None|     Pupil riding to/f...|Approaching junct...|         CITROEN|          SAXO FURIO|         Petrol|         Male|                 Skidded|    No tow/articulation|       Did not leave car...|                               0|   Going ahead other|                1|                 Car|                         No|               Front|  Unclassified|              0|  Unclassified|              0|           Slight|               None|2005-03-08 00:00:00|    Tuesday|                                          1|Give way or uncon...|          Crossroads|54.485014|            Daylight|                  Copeland|                  Cumbria|               298670|                511090| -3.56565|                E01019300|                   2|                 2|                                0|                                      0|            Cumbria|                    Dry|           Unknown|                      None|         60|16:25|              Rural|  Fine no high winds|2005|        No|2005-03-08 00:00:00|    Tuesday|           Unknown|         60|              null|          null|                     null|  null|              null|                null|\n",
      "| 200504CM05122|             56 - 65|             2|           Urban area|                3|               11946|                     None|                      None|     Journey as part o...|Approaching junct...|        MERCEDES|                null|      Heavy oil|         Male|                    None|    Articulated vehicle|       Did not leave car...|                               0|   Going ahead other|                2|Goods 7.5 tonnes ...|                         No|                Back|  Unclassified|              0|  Unclassified|              0|           Slight|               None|2005-11-01 00:00:00|    Tuesday|                                          1|Give way or uncon...|T or staggered ju...|53.718457|Darkness - lights...|              South Ribble|               Lancashire|               357020|                424870|-2.652781|                E01025401|                   4|                 2|                                0|                                      0|         Lancashire|            Wet or damp|Single carriageway|                      None|         30|21:29|              Urban|Raining no high w...|2005|        No|2005-11-01 00:00:00|    Tuesday|Single carriageway|         30|              null|          null|                     null|  null|              null|                null|\n",
      "| 200504F011105|             26 - 35|            NA|           Urban area|                3|                  NA|                     None|                      None|     Data missing or o...|Mid Junction - on...|            FORD|  TRANSIT 350 LWB TD|             NA|         Male|                 Skidded|    No tow/articulation|       Did not leave car...|                               0|   Going ahead other|                2|                 Car|       Data missing or o...|               Front|             A|           6114|  Unclassified|              0|           Slight|               None|2005-02-15 00:00:00|    Tuesday|                                          1|Give way or uncon...|          Crossroads|53.794342|            Daylight|                   Burnley|               Lancashire|               384770|                433140|-2.232688|                E01024857|                   3|                 3|                                0|                                      4|         Lancashire|                    Dry|Single carriageway|                      None|         30|13:28|              Rural|  Fine no high winds|2005|        No|2005-02-15 00:00:00|    Tuesday|Single carriageway|         30|           26 - 35|            NA|     Data missing or o...|  FORD|TRANSIT 350 LWB TD|Mid Junction - on...|\n",
      "| 200504FE05044|             36 - 45|             3|           Urban area|                4|                1910|                     None|                      None|     Other/Not known (...|  Leaving roundabout|            FIAT| MULTIPLA 110 SX JTD|      Heavy oil|       Female|                    None|    No tow/articulation|       Did not leave car...|                               0|Waiting to go - h...|                2|                 Car|                         No|                Back|             A|           6068|  Unclassified|              0|           Slight|               None|2005-08-16 00:00:00|    Tuesday|                                          1|Give way or uncon...|          Roundabout|53.858343|            Daylight|                    Pendle|               Lancashire|               388490|                440250|-2.176484|                E01025223|                   2|                 4|                                0|                                      0|         Lancashire|                    Dry|        Roundabout|                      None|         30|14:55|              Urban|  Fine no high winds|2005|        No|2005-08-16 00:00:00|    Tuesday|        Roundabout|         30|              null|          null|                     null|  null|              null|                null|\n",
      "| 200505BB02030|             26 - 35|             3|           Urban area|                7|                1299|                     None|                      None|     Other/Not known (...|Approaching junct...|          TOYOTA|      YARIS GLS VVTI|         Petrol|       Female|                    None|    No tow/articulation|       Did not leave car...|                               0|   Going ahead other|                1|                 Car|                         No|               Front|  Unclassified|              0|  Unclassified|              0|           Slight|               None|2005-10-11 00:00:00|    Tuesday|                                          2|Give way or uncon...|          Crossroads|53.641386|            Daylight|                    Sefton|                   Sefton|               336320|                416530|-2.964703|                E01007060|                   1|                 2|                                0|                                      0|         Merseyside|                    Dry|Single carriageway|                      None|         30|13:00|              Rural|             Unknown|2005|        No|2005-10-11 00:00:00|    Tuesday|Single carriageway|         30|           26 - 35|             3|     Other/Not known (...|TOYOTA|    YARIS GLS VVTI|Approaching junct...|\n",
      "| 200505BS00838|             26 - 35|             6| Data missing or o...|               NA|                  NA|                     None|                      None|     Journey as part o...|Mid Junction - on...|          DENNIS|                null|      Heavy oil|       Female|                    None|    No tow/articulation|       Did not leave car...|                               0|       Turning right|                1|Bus or coach (17 ...|                         No|               Front|             C|              0|             C|              0|           Slight|               None|2005-05-10 00:00:00|    Tuesday|                                          1| Auto traffic signal|          Crossroads|53.647633|            Daylight|                    Sefton|                   Sefton|               333800|                417260| -3.00297|                E01006968|                   2|                 2|                                0|                                      5|         Merseyside|                    Dry|    One way street|                      None|         30|15:40|              Urban|  Fine no high winds|2005|        No|2005-05-10 00:00:00|    Tuesday|    One way street|         30|           26 - 35|             6|     Journey as part o...|DENNIS|              null|Mid Junction - on...|\n",
      "| 200505CC02767|             36 - 45|             5|           Urban area|                9|                1597|                     None|                      None|     Journey as part o...|Not at or within ...|          NISSAN|           PRIMERA S|         Petrol|         Male|                    None|    No tow/articulation|       Did not leave car...|                               0|   Going ahead other|                1|                 Car|                         No|               Front|             A|             57|            NA|              0|           Slight|               None|2005-11-08 00:00:00|    Tuesday|                                          1|Data missing or o...|Not at junction o...|53.428678|            Daylight|                  Knowsley|                 Knowsley|               347060|                392730|-2.798236|                E01006463|                   2|                 2|                                0|                                      0|         Merseyside|            Wet or damp|Single carriageway|                      None|         30|12:50|              Urban|Raining no high w...|2005|        No|2005-11-08 00:00:00|    Tuesday|Single carriageway|         30|              null|          null|                     null|  null|              null|                null|\n",
      "| 200505ET00272|             56 - 65|            NA| Data missing or o...|               NA|                  NA|                     None|                      None|     Journey as part o...|Approaching junct...|LONDON TAXIS INT|          TX1 SILVER|             NA|         Male|                    None|    No tow/articulation|       Did not leave car...|                               0|   Going ahead other|                1|Bus or coach (17 ...|                         No|      Did not impact|             B|           5339|  Unclassified|              0|           Slight|               None|2005-02-15 00:00:00|    Tuesday|                                          2|Give way or uncon...|T or staggered ju...|53.404204|            Daylight|                 Liverpool|                Liverpool|               334790|                390160|-2.982344|                E01006511|                   1|                 1|                                0|                                      5|         Merseyside|                    Dry|Single carriageway|                      None|         30|13:19|              Urban|  Fine no high winds|2005|        No|2005-02-15 00:00:00|    Tuesday|Single carriageway|         30|              null|          null|                     null|  null|              null|                null|\n",
      "| 200505ET01349|             36 - 45|             3|           Urban area|                7|                1796|                     None|                      None|     Other/Not known (...|  Leaving roundabout|              MG|       ZS+ STEPSPEED|         Petrol|         Male|                    None|    No tow/articulation|       Did not leave car...|                               0|   Going ahead other|                2|                 Car|                         No|                Back|             A|           5049|  Unclassified|              0|           Slight|               None|2005-06-14 00:00:00|    Tuesday|                                          1|Give way or uncon...|          Roundabout|53.425579|            Daylight|                 Liverpool|                Liverpool|               338400|                392490|-2.928507|                E01006761|                   2|                 2|                                0|                                      0|         Merseyside|                    Dry|        Roundabout|                      None|         30|12:20|              Urban|  Fine no high winds|2005|        No|2005-06-14 00:00:00|    Tuesday|        Roundabout|         30|              null|          null|                     null|  null|              null|                null|\n",
      "+--------------+--------------------+--------------+---------------------+-----------------+--------------------+-------------------------+--------------------------+-------------------------+--------------------+----------------+--------------------+---------------+-------------+------------------------+-----------------------+---------------------------+--------------------------------+--------------------+-----------------+--------------------+---------------------------+--------------------+--------------+---------------+--------------+---------------+-----------------+-------------------+-------------------+-----------+-------------------------------------------+--------------------+--------------------+---------+--------------------+--------------------------+-------------------------+---------------------+----------------------+---------+-------------------------+--------------------+------------------+---------------------------------+---------------------------------------+-------------------+-----------------------+------------------+--------------------------+-----------+-----+-------------------+--------------------+----+----------+-------------------+-----------+------------------+-----------+------------------+--------------+-------------------------+------+------------------+--------------------+\n",
      "only showing top 20 rows\n",
      "\n"
     ]
    }
   ],
   "source": [
    "'''Performing Broadcast Join'''\n",
    "\n",
    "broadcastDF = combinedDF.join(filteredDF,['Accident_Index'])\n",
    "\n",
    "df1 = combinedDF.alias('df1')\n",
    "df2 = filteredDF.alias('df2')\n",
    "\n",
    "drop_list = [c for c in df1.columns if c in df2.columns]\n",
    "for col in drop_list:\n",
    "    broadcastDF = broadcastDF.drop(df2[col])\n",
    "\n",
    "broadcastDF.show()"
   ]
  },
  {
   "cell_type": "code",
   "execution_count": null,
   "metadata": {},
   "outputs": [],
   "source": []
  },
  {
   "cell_type": "code",
   "execution_count": null,
   "metadata": {},
   "outputs": [],
   "source": []
  },
  {
   "cell_type": "code",
   "execution_count": null,
   "metadata": {},
   "outputs": [],
   "source": []
  }
 ],
 "metadata": {
  "kernelspec": {
   "display_name": "Python 3",
   "language": "python",
   "name": "python3"
  },
  "language_info": {
   "codemirror_mode": {
    "name": "ipython",
    "version": 3
   },
   "file_extension": ".py",
   "mimetype": "text/x-python",
   "name": "python",
   "nbconvert_exporter": "python",
   "pygments_lexer": "ipython3",
   "version": "3.6.7"
  }
 },
 "nbformat": 4,
 "nbformat_minor": 2
}
